{
  "nbformat": 4,
  "nbformat_minor": 0,
  "metadata": {
    "colab": {
      "provenance": [],
      "toc_visible": true,
      "mount_file_id": "1ypS0X7AxA4CGfsEDUn6yOeqn-u026GtF",
      "authorship_tag": "ABX9TyPMF4r+H9V/jyKdHhMgL1wr",
      "include_colab_link": true
    },
    "kernelspec": {
      "name": "python3",
      "display_name": "Python 3"
    },
    "language_info": {
      "name": "python"
    }
  },
  "cells": [
    {
      "cell_type": "markdown",
      "metadata": {
        "id": "view-in-github",
        "colab_type": "text"
      },
      "source": [
        "<a href=\"https://colab.research.google.com/github/faishal-ai/machine-learning_2025/blob/main/ML-P1.ipynb\" target=\"_parent\"><img src=\"https://colab.research.google.com/assets/colab-badge.svg\" alt=\"Open In Colab\"/></a>"
      ]
    },
    {
      "cell_type": "markdown",
      "source": [
        "Praktikum 1"
      ],
      "metadata": {
        "id": "6EfRJHhURsz2"
      }
    },
    {
      "cell_type": "markdown",
      "source": [
        "INSATALASI LIBLARY"
      ],
      "metadata": {
        "id": "3z5ilQ2jTXDe"
      }
    },
    {
      "cell_type": "code",
      "source": [
        "!pip install PyPREP"
      ],
      "metadata": {
        "colab": {
          "base_uri": "https://localhost:8080/"
        },
        "id": "Sa2Hubt8SMP-",
        "outputId": "659d9f52-60cd-428d-9ffc-541bb386a2ff"
      },
      "execution_count": null,
      "outputs": [
        {
          "output_type": "stream",
          "name": "stdout",
          "text": [
            "Collecting PyPREP\n",
            "  Downloading pyprep-0.5.0-py3-none-any.whl.metadata (7.3 kB)\n",
            "Requirement already satisfied: mne>=1.3.0 in /usr/local/lib/python3.12/dist-packages (from PyPREP) (1.10.1)\n",
            "Requirement already satisfied: numpy>=1.20.2 in /usr/local/lib/python3.12/dist-packages (from PyPREP) (2.0.2)\n",
            "Requirement already satisfied: psutil>=5.4.3 in /usr/local/lib/python3.12/dist-packages (from PyPREP) (5.9.5)\n",
            "Requirement already satisfied: scipy>=1.6.3 in /usr/local/lib/python3.12/dist-packages (from PyPREP) (1.16.1)\n",
            "Requirement already satisfied: decorator in /usr/local/lib/python3.12/dist-packages (from mne>=1.3.0->PyPREP) (4.4.2)\n",
            "Requirement already satisfied: jinja2 in /usr/local/lib/python3.12/dist-packages (from mne>=1.3.0->PyPREP) (3.1.6)\n",
            "Requirement already satisfied: lazy-loader>=0.3 in /usr/local/lib/python3.12/dist-packages (from mne>=1.3.0->PyPREP) (0.4)\n",
            "Requirement already satisfied: matplotlib>=3.7 in /usr/local/lib/python3.12/dist-packages (from mne>=1.3.0->PyPREP) (3.10.0)\n",
            "Requirement already satisfied: packaging in /usr/local/lib/python3.12/dist-packages (from mne>=1.3.0->PyPREP) (25.0)\n",
            "Requirement already satisfied: pooch>=1.5 in /usr/local/lib/python3.12/dist-packages (from mne>=1.3.0->PyPREP) (1.8.2)\n",
            "Requirement already satisfied: tqdm in /usr/local/lib/python3.12/dist-packages (from mne>=1.3.0->PyPREP) (4.67.1)\n",
            "Requirement already satisfied: contourpy>=1.0.1 in /usr/local/lib/python3.12/dist-packages (from matplotlib>=3.7->mne>=1.3.0->PyPREP) (1.3.3)\n",
            "Requirement already satisfied: cycler>=0.10 in /usr/local/lib/python3.12/dist-packages (from matplotlib>=3.7->mne>=1.3.0->PyPREP) (0.12.1)\n",
            "Requirement already satisfied: fonttools>=4.22.0 in /usr/local/lib/python3.12/dist-packages (from matplotlib>=3.7->mne>=1.3.0->PyPREP) (4.59.2)\n",
            "Requirement already satisfied: kiwisolver>=1.3.1 in /usr/local/lib/python3.12/dist-packages (from matplotlib>=3.7->mne>=1.3.0->PyPREP) (1.4.9)\n",
            "Requirement already satisfied: pillow>=8 in /usr/local/lib/python3.12/dist-packages (from matplotlib>=3.7->mne>=1.3.0->PyPREP) (11.3.0)\n",
            "Requirement already satisfied: pyparsing>=2.3.1 in /usr/local/lib/python3.12/dist-packages (from matplotlib>=3.7->mne>=1.3.0->PyPREP) (3.2.3)\n",
            "Requirement already satisfied: python-dateutil>=2.7 in /usr/local/lib/python3.12/dist-packages (from matplotlib>=3.7->mne>=1.3.0->PyPREP) (2.9.0.post0)\n",
            "Requirement already satisfied: platformdirs>=2.5.0 in /usr/local/lib/python3.12/dist-packages (from pooch>=1.5->mne>=1.3.0->PyPREP) (4.4.0)\n",
            "Requirement already satisfied: requests>=2.19.0 in /usr/local/lib/python3.12/dist-packages (from pooch>=1.5->mne>=1.3.0->PyPREP) (2.32.4)\n",
            "Requirement already satisfied: MarkupSafe>=2.0 in /usr/local/lib/python3.12/dist-packages (from jinja2->mne>=1.3.0->PyPREP) (3.0.2)\n",
            "Requirement already satisfied: six>=1.5 in /usr/local/lib/python3.12/dist-packages (from python-dateutil>=2.7->matplotlib>=3.7->mne>=1.3.0->PyPREP) (1.17.0)\n",
            "Requirement already satisfied: charset_normalizer<4,>=2 in /usr/local/lib/python3.12/dist-packages (from requests>=2.19.0->pooch>=1.5->mne>=1.3.0->PyPREP) (3.4.3)\n",
            "Requirement already satisfied: idna<4,>=2.5 in /usr/local/lib/python3.12/dist-packages (from requests>=2.19.0->pooch>=1.5->mne>=1.3.0->PyPREP) (3.10)\n",
            "Requirement already satisfied: urllib3<3,>=1.21.1 in /usr/local/lib/python3.12/dist-packages (from requests>=2.19.0->pooch>=1.5->mne>=1.3.0->PyPREP) (2.5.0)\n",
            "Requirement already satisfied: certifi>=2017.4.17 in /usr/local/lib/python3.12/dist-packages (from requests>=2.19.0->pooch>=1.5->mne>=1.3.0->PyPREP) (2025.8.3)\n",
            "Downloading pyprep-0.5.0-py3-none-any.whl (34 kB)\n",
            "Installing collected packages: PyPREP\n",
            "Successfully installed PyPREP-0.5.0\n"
          ]
        }
      ]
    },
    {
      "cell_type": "markdown",
      "source": [
        "**KEGUNAAN:** Library ini merupakan implementasi python dari algoritma PREP pipeline, yang dipakai untuk membersihkan sinyal EEG mentah supaya lebih siap digunakan dalam analisis atau machine learning."
      ],
      "metadata": {
        "id": "rWTKhhWRTvHc"
      }
    },
    {
      "cell_type": "code",
      "source": [
        "!pip install Scipy"
      ],
      "metadata": {
        "colab": {
          "base_uri": "https://localhost:8080/"
        },
        "id": "_zji0qQwSTbW",
        "outputId": "70cd9b7c-f113-4b22-e4ae-e9283dec27fa"
      },
      "execution_count": null,
      "outputs": [
        {
          "output_type": "stream",
          "name": "stdout",
          "text": [
            "Requirement already satisfied: Scipy in /usr/local/lib/python3.12/dist-packages (1.16.1)\n",
            "Requirement already satisfied: numpy<2.6,>=1.25.2 in /usr/local/lib/python3.12/dist-packages (from Scipy) (2.0.2)\n"
          ]
        }
      ]
    },
    {
      "cell_type": "markdown",
      "source": [
        "**KEGUNAAN:** Library fundamental untuk komputasi saintifik yang menyediakan modul untuk optimasi, aljabar linear, integrasi, interpolasi, statistik, dan pemrosesan sinyal."
      ],
      "metadata": {
        "id": "2nH970aIUbYt"
      }
    },
    {
      "cell_type": "code",
      "source": [
        "!pip install wandb"
      ],
      "metadata": {
        "colab": {
          "base_uri": "https://localhost:8080/"
        },
        "id": "HaGeZ5c-UdBK",
        "outputId": "c0f85980-d5b2-4a5a-d189-58d40754eea6"
      },
      "execution_count": null,
      "outputs": [
        {
          "output_type": "stream",
          "name": "stdout",
          "text": [
            "Requirement already satisfied: wandb in /usr/local/lib/python3.12/dist-packages (0.21.3)\n",
            "Requirement already satisfied: click>=8.0.1 in /usr/local/lib/python3.12/dist-packages (from wandb) (8.2.1)\n",
            "Requirement already satisfied: gitpython!=3.1.29,>=1.0.0 in /usr/local/lib/python3.12/dist-packages (from wandb) (3.1.45)\n",
            "Requirement already satisfied: packaging in /usr/local/lib/python3.12/dist-packages (from wandb) (25.0)\n",
            "Requirement already satisfied: platformdirs in /usr/local/lib/python3.12/dist-packages (from wandb) (4.4.0)\n",
            "Requirement already satisfied: protobuf!=4.21.0,!=5.28.0,<7,>=3.19.0 in /usr/local/lib/python3.12/dist-packages (from wandb) (5.29.5)\n",
            "Requirement already satisfied: pydantic<3 in /usr/local/lib/python3.12/dist-packages (from wandb) (2.11.7)\n",
            "Requirement already satisfied: pyyaml in /usr/local/lib/python3.12/dist-packages (from wandb) (6.0.2)\n",
            "Requirement already satisfied: requests<3,>=2.0.0 in /usr/local/lib/python3.12/dist-packages (from wandb) (2.32.4)\n",
            "Requirement already satisfied: sentry-sdk>=2.0.0 in /usr/local/lib/python3.12/dist-packages (from wandb) (2.36.0)\n",
            "Requirement already satisfied: typing-extensions<5,>=4.8 in /usr/local/lib/python3.12/dist-packages (from wandb) (4.15.0)\n",
            "Requirement already satisfied: gitdb<5,>=4.0.1 in /usr/local/lib/python3.12/dist-packages (from gitpython!=3.1.29,>=1.0.0->wandb) (4.0.12)\n",
            "Requirement already satisfied: annotated-types>=0.6.0 in /usr/local/lib/python3.12/dist-packages (from pydantic<3->wandb) (0.7.0)\n",
            "Requirement already satisfied: pydantic-core==2.33.2 in /usr/local/lib/python3.12/dist-packages (from pydantic<3->wandb) (2.33.2)\n",
            "Requirement already satisfied: typing-inspection>=0.4.0 in /usr/local/lib/python3.12/dist-packages (from pydantic<3->wandb) (0.4.1)\n",
            "Requirement already satisfied: charset_normalizer<4,>=2 in /usr/local/lib/python3.12/dist-packages (from requests<3,>=2.0.0->wandb) (3.4.3)\n",
            "Requirement already satisfied: idna<4,>=2.5 in /usr/local/lib/python3.12/dist-packages (from requests<3,>=2.0.0->wandb) (3.10)\n",
            "Requirement already satisfied: urllib3<3,>=1.21.1 in /usr/local/lib/python3.12/dist-packages (from requests<3,>=2.0.0->wandb) (2.5.0)\n",
            "Requirement already satisfied: certifi>=2017.4.17 in /usr/local/lib/python3.12/dist-packages (from requests<3,>=2.0.0->wandb) (2025.8.3)\n",
            "Requirement already satisfied: smmap<6,>=3.0.1 in /usr/local/lib/python3.12/dist-packages (from gitdb<5,>=4.0.1->gitpython!=3.1.29,>=1.0.0->wandb) (5.0.2)\n"
          ]
        }
      ]
    },
    {
      "cell_type": "markdown",
      "source": [
        "**KEGUNAAN:** wandb (Weights & Biases) adalah platform untuk melacak eksperimen machine learning. Ini membantu Anda memvisualisasikan, membandingkan, dan mereproduksi hasil eksperimen"
      ],
      "metadata": {
        "id": "qzyPQErKUlLg"
      }
    },
    {
      "cell_type": "code",
      "source": [
        "!pip install git+https://github.com/berndporr/py-ecg-detectors"
      ],
      "metadata": {
        "colab": {
          "base_uri": "https://localhost:8080/"
        },
        "id": "kBSkgeigUwd8",
        "outputId": "edf4a73a-cae6-4226-f5f1-c4ba83962159"
      },
      "execution_count": null,
      "outputs": [
        {
          "output_type": "stream",
          "name": "stdout",
          "text": [
            "Collecting git+https://github.com/berndporr/py-ecg-detectors\n",
            "  Cloning https://github.com/berndporr/py-ecg-detectors to /tmp/pip-req-build-t39ln0kv\n",
            "  Running command git clone --filter=blob:none --quiet https://github.com/berndporr/py-ecg-detectors /tmp/pip-req-build-t39ln0kv\n",
            "  Resolved https://github.com/berndporr/py-ecg-detectors to commit f39354cb686710f8e243e214b94fda0914fff656\n",
            "  Preparing metadata (setup.py) ... \u001b[?25l\u001b[?25hdone\n",
            "Requirement already satisfied: numpy in /usr/local/lib/python3.12/dist-packages (from py-ecg-detectors==1.3.5) (2.0.2)\n",
            "Collecting pathlib2 (from py-ecg-detectors==1.3.5)\n",
            "  Downloading pathlib2-2.3.7.post1-py2.py3-none-any.whl.metadata (3.5 kB)\n",
            "Requirement already satisfied: scipy in /usr/local/lib/python3.12/dist-packages (from py-ecg-detectors==1.3.5) (1.16.1)\n",
            "Collecting gatspy (from py-ecg-detectors==1.3.5)\n",
            "  Downloading gatspy-0.3.tar.gz (554 kB)\n",
            "\u001b[2K     \u001b[90m━━━━━━━━━━━━━━━━━━━━━━━━━━━━━━━━━━━━━━━\u001b[0m \u001b[32m554.5/554.5 kB\u001b[0m \u001b[31m4.5 MB/s\u001b[0m eta \u001b[36m0:00:00\u001b[0m\n",
            "\u001b[?25h  Preparing metadata (setup.py) ... \u001b[?25l\u001b[?25hdone\n",
            "Requirement already satisfied: pywavelets in /usr/local/lib/python3.12/dist-packages (from py-ecg-detectors==1.3.5) (1.9.0)\n",
            "Requirement already satisfied: six in /usr/local/lib/python3.12/dist-packages (from pathlib2->py-ecg-detectors==1.3.5) (1.17.0)\n",
            "Downloading pathlib2-2.3.7.post1-py2.py3-none-any.whl (18 kB)\n",
            "Building wheels for collected packages: py-ecg-detectors, gatspy\n",
            "  Building wheel for py-ecg-detectors (setup.py) ... \u001b[?25l\u001b[?25hdone\n",
            "  Created wheel for py-ecg-detectors: filename=py_ecg_detectors-1.3.5-py3-none-any.whl size=25354 sha256=22fda1e98d3c7a9684e93aca9d67f5f4b65ed3fce5d5a70fd78cd681d65f60bb\n",
            "  Stored in directory: /tmp/pip-ephem-wheel-cache-mtls_h_t/wheels/21/fa/b8/dbb483b99cd17a7bbff4268ebfaa826580d2138ed6f187b980\n",
            "  Building wheel for gatspy (setup.py) ... \u001b[?25l\u001b[?25hdone\n",
            "  Created wheel for gatspy: filename=gatspy-0.3-py3-none-any.whl size=43804 sha256=9cf72c8ba068a954c6dab81b8eeb1d98a51001271112c0a396dadbcb8ce2342e\n",
            "  Stored in directory: /root/.cache/pip/wheels/b5/56/88/04643e9be584a6018e10aae5789d98225995da3e89513c3f30\n",
            "Successfully built py-ecg-detectors gatspy\n",
            "Installing collected packages: gatspy, pathlib2, py-ecg-detectors\n",
            "Successfully installed gatspy-0.3 pathlib2-2.3.7.post1 py-ecg-detectors-1.3.5\n"
          ]
        }
      ]
    },
    {
      "cell_type": "markdown",
      "source": [
        "**KEGUNAAN:**  ibrary ini digunakan untuk mendeteksi puncak R (R-peaks) dalam sinyal elektrokardiogram (ECG). Ini menyediakan berbagai algoritma deteksi puncak R yang berbeda."
      ],
      "metadata": {
        "id": "2aI45KdQVQ9I"
      }
    },
    {
      "cell_type": "markdown",
      "source": [
        "**Bagian 2**\n",
        "\n",
        "1. **Berikan contoh tentang tidakan melanggar etika dan hukum tentang penggunaan kecerdasan buatan. Sertakan referensi yang digunakan.**"
      ],
      "metadata": {
        "id": "eBQ06_Y7VnFQ"
      }
    },
    {
      "cell_type": "markdown",
      "source": [
        "1.\tDiskriminasi dan Bias Algoritma:\n",
        "\n",
        "*   Contoh: Sistem perekrutan berbasis AI yang secara tidak sengaja mendiskriminasi kandidat berdasarkan jenis kelamin atau ras karena data pelatihan yang bias.\n",
        "*   Hukum/Etika yang Dilanggar: Prinsip keadilan, kesetaraan, dan anti-diskriminasi. Di banyak negara, ini melanggar undang-undang anti-diskriminasi ketenagakerjaan.\n",
        "*   Referensi:\n",
        "Buolamwini, J., & Gebru, T. (2018). Gender Shades: Intersectional Accuracy Disparities in Commercial Gender Classification. Proceedings of the Conference on Fairness, Accountability, and Transparency, 77–91. (Contoh penelitian yang menunjukkan bias dalam sistem pengenalan wajah komersial).\n",
        "\n",
        "2.\tPelanggaran Privasi Data:\n",
        "\n",
        "*   Contoh: Penggunaan AI untuk menganalisis data pribadi dalam jumlah besar tanpa persetujuan yang jelas dari individu, atau penggunaan data pribadi untuk tujuan yang tidak diungkapkan.\n",
        "*   Hukum/Etika yang Dilanggar: Hak privasi individu, peraturan perlindungan data (seperti GDPR di Eropa atau undang-undang privasi data di berbagai negara).\n",
        "*   Referensi:\n",
        "General Data Protection Regulation (GDPR) - Regulasi Uni Eropa tentang perlindungan data dan privasi. (Dapat dicari melalui situs resmi Uni Eropa).\n",
        "\n",
        "3.\tKurangnya Transparansi dan Penjelasan (Lack of Transparency and Explainability):\n",
        "*\tContoh: Sistem AI \"kotak hitam\" (black box) di mana tidak jelas bagaimana keputusan dibuat, terutama dalam konteks krusial seperti diagnosis medis atau keputusan hukum.\n",
        "*\tHukum/Etika yang Dilanggar: Prinsip akuntabilitas, hak untuk mendapatkan penjelasan (terutama dalam konteks GDPR), dan kepercayaan publik terhadap sistem AI.\n",
        "*\tReferensi:Goodman, B., & Flaxman, S. (2017). European Union regulations on algorithmic decision-making are stronger than you think. International Data Privacy Law, 7(3), 211-222. (Membahas hak atas penjelasan dalam konteks GDPR).\n"
      ],
      "metadata": {
        "id": "UHDlouQvWzHb"
      }
    }
  ]
}